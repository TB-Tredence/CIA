{
 "cells": [
  {
   "cell_type": "markdown",
   "metadata": {},
   "source": [
    "# Library & Setup"
   ]
  },
  {
   "cell_type": "markdown",
   "metadata": {},
   "source": [
    "###### Package installation"
   ]
  },
  {
   "cell_type": "code",
   "execution_count": 5,
   "metadata": {
    "collapsed": true
   },
   "outputs": [
    {
     "name": "stdout",
     "output_type": "stream",
     "text": [
      "Collecting snowflake-connector-python[pandas]\n",
      "  Downloading https://files.pythonhosted.org/packages/1c/d9/9b2b7b3085822383358ec11e4384d5472993b3971385709ea19ed62cf334/snowflake_connector_python-2.1.3-cp37-cp37m-win_amd64.whl (2.6MB)\n",
      "Requirement already satisfied: requests<2.23.0 in c:\\users\\hn42\\appdata\\local\\continuum\\anaconda3\\lib\\site-packages (from snowflake-connector-python[pandas]) (2.22.0)\n",
      "Requirement already satisfied: cffi<1.14,>=1.9 in c:\\users\\hn42\\appdata\\local\\continuum\\anaconda3\\lib\\site-packages (from snowflake-connector-python[pandas]) (1.12.3)\n",
      "Requirement already satisfied: urllib3<1.26.0,>=1.20 in c:\\users\\hn42\\appdata\\local\\continuum\\anaconda3\\lib\\site-packages (from snowflake-connector-python[pandas]) (1.24.2)\n",
      "Collecting ijson<3.0.0 (from snowflake-connector-python[pandas])\n",
      "  Downloading https://files.pythonhosted.org/packages/bb/f9/9dd57fe468e033610b979adcb45b159b76309ea4df63f70a10cfb75d71ae/ijson-2.5.1.tar.gz\n",
      "Requirement already satisfied: certifi<2021.0.0 in c:\\users\\hn42\\appdata\\local\\continuum\\anaconda3\\lib\\site-packages (from snowflake-connector-python[pandas]) (2019.9.11)\n",
      "Collecting boto3<1.11.0,>=1.4.4 (from snowflake-connector-python[pandas])\n",
      "  Downloading https://files.pythonhosted.org/packages/43/a6/433564e7b241ecb012c67e6580e302ecdc79c8b5189e3f7efb6e7b0fde45/boto3-1.10.50-py2.py3-none-any.whl (128kB)\n",
      "Collecting pycryptodomex!=3.5.0,<4.0.0,>=3.2 (from snowflake-connector-python[pandas])\n",
      "  Downloading https://files.pythonhosted.org/packages/44/d3/14529fc45fe742207adb3a85df6674c51c4e6e95366b2a84516d3696b40f/pycryptodomex-3.9.4-cp37-cp37m-win_amd64.whl (10.1MB)\n",
      "Requirement already satisfied: six<2.0.0 in c:\\users\\hn42\\appdata\\local\\continuum\\anaconda3\\lib\\site-packages (from snowflake-connector-python[pandas]) (1.12.0)\n",
      "Requirement already satisfied: pytz<2021.0 in c:\\users\\hn42\\appdata\\local\\continuum\\anaconda3\\lib\\site-packages (from snowflake-connector-python[pandas]) (2019.3)\n",
      "Collecting azure-common<2.0.0 (from snowflake-connector-python[pandas])\n",
      "  Downloading https://files.pythonhosted.org/packages/3f/4b/8881f8446853dfe3d404468689edcff33c0e2bf62ac2ddf31d08d739fadc/azure_common-1.1.24-py2.py3-none-any.whl\n",
      "Requirement already satisfied: cryptography<3.0.0,>=1.8.2 in c:\\users\\hn42\\appdata\\local\\continuum\\anaconda3\\lib\\site-packages (from snowflake-connector-python[pandas]) (2.7)\n",
      "Requirement already satisfied: future<1.0.0 in c:\\users\\hn42\\appdata\\local\\continuum\\anaconda3\\lib\\site-packages (from snowflake-connector-python[pandas]) (0.17.1)\n",
      "Requirement already satisfied: pyOpenSSL<21.0.0,>=16.2.0 in c:\\users\\hn42\\appdata\\local\\continuum\\anaconda3\\lib\\site-packages (from snowflake-connector-python[pandas]) (19.0.0)\n",
      "Requirement already satisfied: idna<3.0.0 in c:\\users\\hn42\\appdata\\local\\continuum\\anaconda3\\lib\\site-packages (from snowflake-connector-python[pandas]) (2.8)\n",
      "Requirement already satisfied: asn1crypto<2.0.0,>0.24.0 in c:\\users\\hn42\\appdata\\local\\continuum\\anaconda3\\lib\\site-packages (from snowflake-connector-python[pandas]) (1.0.1)\n",
      "Collecting oscrypto<2.0.0 (from snowflake-connector-python[pandas])\n",
      "  Downloading https://files.pythonhosted.org/packages/2a/79/4849dadb88f6cddc8ad4c701c11be5cb36434f043c73cebc3b0494943e77/oscrypto-1.2.0-py2.py3-none-any.whl (192kB)\n",
      "Collecting pyjwt<2.0.0 (from snowflake-connector-python[pandas])\n",
      "  Downloading https://files.pythonhosted.org/packages/87/8b/6a9f14b5f781697e51259d81657e6048fd31a113229cf346880bb7545565/PyJWT-1.7.1-py2.py3-none-any.whl\n",
      "Collecting azure-storage-blob<12.0.0 (from snowflake-connector-python[pandas])\n",
      "  Downloading https://files.pythonhosted.org/packages/3e/84/610f379b46d7d3c2d48eadeed6a12b6d46a43100fea70534f5992d0ac996/azure_storage_blob-2.1.0-py2.py3-none-any.whl (88kB)\n",
      "Collecting botocore<1.14.0,>=1.5.0 (from snowflake-connector-python[pandas])\n",
      "  Downloading https://files.pythonhosted.org/packages/24/2d/47bc2f26b9f014998ad5c6ed844424a69f8ea77d26dab22a4e2ddbff20d4/botocore-1.13.50-py2.py3-none-any.whl (5.9MB)\n",
      "Collecting pyarrow<0.16.0,>=0.15.1; python_version > \"3.4\" and extra == \"pandas\" (from snowflake-connector-python[pandas])\n",
      "  Downloading https://files.pythonhosted.org/packages/6b/b3/7e3dbf6544c997b36e753c5abdbb939087e2e3287d4b7929ec25902758cd/pyarrow-0.15.1-cp37-cp37m-win_amd64.whl (18.3MB)\n",
      "Requirement already satisfied: pandas<1.0.0; python_version > \"3.5\" and extra == \"pandas\" in c:\\users\\hn42\\appdata\\local\\continuum\\anaconda3\\lib\\site-packages (from snowflake-connector-python[pandas]) (0.25.1)\n",
      "Requirement already satisfied: chardet<3.1.0,>=3.0.2 in c:\\users\\hn42\\appdata\\local\\continuum\\anaconda3\\lib\\site-packages (from requests<2.23.0->snowflake-connector-python[pandas]) (3.0.4)\n",
      "Requirement already satisfied: pycparser in c:\\users\\hn42\\appdata\\local\\continuum\\anaconda3\\lib\\site-packages (from cffi<1.14,>=1.9->snowflake-connector-python[pandas]) (2.19)\n",
      "Collecting jmespath<1.0.0,>=0.7.1 (from boto3<1.11.0,>=1.4.4->snowflake-connector-python[pandas])\n",
      "  Downloading https://files.pythonhosted.org/packages/83/94/7179c3832a6d45b266ddb2aac329e101367fbdb11f425f13771d27f225bb/jmespath-0.9.4-py2.py3-none-any.whl\n",
      "Collecting s3transfer<0.3.0,>=0.2.0 (from boto3<1.11.0,>=1.4.4->snowflake-connector-python[pandas])\n",
      "  Downloading https://files.pythonhosted.org/packages/16/8a/1fc3dba0c4923c2a76e1ff0d52b305c44606da63f718d14d3231e21c51b0/s3transfer-0.2.1-py2.py3-none-any.whl (70kB)\n",
      "Collecting azure-storage-common~=2.1 (from azure-storage-blob<12.0.0->snowflake-connector-python[pandas])\n",
      "  Downloading https://files.pythonhosted.org/packages/6b/a0/6794b318ce0118d1a4053bdf0149a60807407db9b710354f2b203c2f5975/azure_storage_common-2.1.0-py2.py3-none-any.whl (47kB)\n",
      "Requirement already satisfied: python-dateutil<3.0.0,>=2.1; python_version >= \"2.7\" in c:\\users\\hn42\\appdata\\local\\continuum\\anaconda3\\lib\\site-packages (from botocore<1.14.0,>=1.5.0->snowflake-connector-python[pandas]) (2.8.0)\n",
      "Requirement already satisfied: docutils<0.16,>=0.10 in c:\\users\\hn42\\appdata\\local\\continuum\\anaconda3\\lib\\site-packages (from botocore<1.14.0,>=1.5.0->snowflake-connector-python[pandas]) (0.15.2)\n",
      "Requirement already satisfied: numpy>=1.14 in c:\\users\\hn42\\appdata\\local\\continuum\\anaconda3\\lib\\site-packages (from pyarrow<0.16.0,>=0.15.1; python_version > \"3.4\" and extra == \"pandas\"->snowflake-connector-python[pandas]) (1.16.5)\n",
      "Building wheels for collected packages: ijson\n",
      "  Building wheel for ijson (setup.py): started\n",
      "  Building wheel for ijson (setup.py): finished with status 'done'\n",
      "  Created wheel for ijson: filename=ijson-2.5.1-cp37-none-any.whl size=16986 sha256=52819df12aeb9b96c0e4cce65a27e4d08369d704327f0e917e3745da0a04b5f0\n",
      "  Stored in directory: C:\\Users\\hn42\\AppData\\Local\\pip\\Cache\\wheels\\4d\\d1\\00\\97c35b66b6b59081fe7f90f4a4dc30673ebd8af70382238b95\n",
      "Successfully built ijson\n",
      "Installing collected packages: ijson, jmespath, botocore, s3transfer, boto3, pycryptodomex, azure-common, oscrypto, pyjwt, azure-storage-common, azure-storage-blob, pyarrow, snowflake-connector-python\n",
      "Successfully installed azure-common-1.1.24 azure-storage-blob-2.1.0 azure-storage-common-2.1.0 boto3-1.10.50 botocore-1.13.50 ijson-2.5.1 jmespath-0.9.4 oscrypto-1.2.0 pyarrow-0.15.1 pycryptodomex-3.9.4 pyjwt-1.7.1 s3transfer-0.2.1 snowflake-connector-python-2.1.3\n",
      "Note: you may need to restart the kernel to use updated packages.\n"
     ]
    }
   ],
   "source": [
    "pip install snowflake-connector-python[pandas]"
   ]
  },
  {
   "cell_type": "code",
   "execution_count": 7,
   "metadata": {
    "collapsed": true
   },
   "outputs": [
    {
     "name": "stdout",
     "output_type": "stream",
     "text": [
      "Collecting https://github.com/pandas-profiling/pandas-profiling/archive/master.zip\n",
      "  Downloading https://github.com/pandas-profiling/pandas-profiling/archive/master.zip\n",
      "Requirement already satisfied: pandas>=0.19 in c:\\users\\hn42\\appdata\\local\\continuum\\anaconda3\\lib\\site-packages (from pandas-profiling==2.4.1) (0.25.1)\n",
      "Requirement already satisfied: matplotlib>=1.4 in c:\\users\\hn42\\appdata\\local\\continuum\\anaconda3\\lib\\site-packages (from pandas-profiling==2.4.1) (3.1.1)\n",
      "Collecting confuse>=1.0.0 (from pandas-profiling==2.4.1)\n",
      "  Downloading https://files.pythonhosted.org/packages/4c/6f/90e860cba937c174d8b3775729ccc6377eb91f52ad4eeb008e7252a3646d/confuse-1.0.0.tar.gz\n",
      "Requirement already satisfied: jinja2>=2.8 in c:\\users\\hn42\\appdata\\local\\continuum\\anaconda3\\lib\\site-packages (from pandas-profiling==2.4.1) (2.10.3)\n",
      "Collecting htmlmin>=0.1.12 (from pandas-profiling==2.4.1)\n",
      "  Downloading https://files.pythonhosted.org/packages/b3/e7/fcd59e12169de19f0131ff2812077f964c6b960e7c09804d30a7bf2ab461/htmlmin-0.1.12.tar.gz\n",
      "Collecting missingno>=0.4.2 (from pandas-profiling==2.4.1)\n",
      "  Downloading https://files.pythonhosted.org/packages/2b/de/6e4dd6d720c49939544352155dc06a08c9f7e4271aa631a559dfbeaaf9d4/missingno-0.4.2-py3-none-any.whl\n",
      "Collecting phik>=0.9.8 (from pandas-profiling==2.4.1)\n",
      "  Downloading https://files.pythonhosted.org/packages/45/ad/24a16fa4ba612fb96a3c4bb115a5b9741483f53b66d3d3afd987f20fa227/phik-0.9.8-py3-none-any.whl (606kB)\n",
      "Requirement already satisfied: astropy in c:\\users\\hn42\\appdata\\local\\continuum\\anaconda3\\lib\\site-packages (from pandas-profiling==2.4.1) (3.2.1)\n",
      "Requirement already satisfied: pytz>=2017.2 in c:\\users\\hn42\\appdata\\local\\continuum\\anaconda3\\lib\\site-packages (from pandas>=0.19->pandas-profiling==2.4.1) (2019.3)\n",
      "Requirement already satisfied: python-dateutil>=2.6.1 in c:\\users\\hn42\\appdata\\local\\continuum\\anaconda3\\lib\\site-packages (from pandas>=0.19->pandas-profiling==2.4.1) (2.8.0)\n",
      "Requirement already satisfied: numpy>=1.13.3 in c:\\users\\hn42\\appdata\\local\\continuum\\anaconda3\\lib\\site-packages (from pandas>=0.19->pandas-profiling==2.4.1) (1.16.5)\n",
      "Requirement already satisfied: cycler>=0.10 in c:\\users\\hn42\\appdata\\local\\continuum\\anaconda3\\lib\\site-packages (from matplotlib>=1.4->pandas-profiling==2.4.1) (0.10.0)\n",
      "Requirement already satisfied: kiwisolver>=1.0.1 in c:\\users\\hn42\\appdata\\local\\continuum\\anaconda3\\lib\\site-packages (from matplotlib>=1.4->pandas-profiling==2.4.1) (1.1.0)\n",
      "Requirement already satisfied: pyparsing!=2.0.4,!=2.1.2,!=2.1.6,>=2.0.1 in c:\\users\\hn42\\appdata\\local\\continuum\\anaconda3\\lib\\site-packages (from matplotlib>=1.4->pandas-profiling==2.4.1) (2.4.2)\n",
      "Requirement already satisfied: pyyaml in c:\\users\\hn42\\appdata\\local\\continuum\\anaconda3\\lib\\site-packages (from confuse>=1.0.0->pandas-profiling==2.4.1) (5.1.2)\n",
      "Requirement already satisfied: MarkupSafe>=0.23 in c:\\users\\hn42\\appdata\\local\\continuum\\anaconda3\\lib\\site-packages (from jinja2>=2.8->pandas-profiling==2.4.1) (1.1.1)\n",
      "Requirement already satisfied: scipy in c:\\users\\hn42\\appdata\\local\\continuum\\anaconda3\\lib\\site-packages (from missingno>=0.4.2->pandas-profiling==2.4.1) (1.3.1)\n",
      "Requirement already satisfied: seaborn in c:\\users\\hn42\\appdata\\local\\continuum\\anaconda3\\lib\\site-packages (from missingno>=0.4.2->pandas-profiling==2.4.1) (0.9.0)\n",
      "Requirement already satisfied: pytest>=4.0.2 in c:\\users\\hn42\\appdata\\local\\continuum\\anaconda3\\lib\\site-packages (from phik>=0.9.8->pandas-profiling==2.4.1) (5.2.1)\n",
      "Collecting pytest-pylint>=0.13.0 (from phik>=0.9.8->pandas-profiling==2.4.1)\n",
      "  Downloading https://files.pythonhosted.org/packages/64/dc/6f35f114844fb12e38d60c4f3d2441a55baff7043ad4e013777dff55746c/pytest_pylint-0.14.1-py3-none-any.whl\n",
      "Requirement already satisfied: nbconvert>=5.3.1 in c:\\users\\hn42\\appdata\\local\\continuum\\anaconda3\\lib\\site-packages (from phik>=0.9.8->pandas-profiling==2.4.1) (5.6.0)\n",
      "Requirement already satisfied: jupyter-client>=5.2.3 in c:\\users\\hn42\\appdata\\local\\continuum\\anaconda3\\lib\\site-packages (from phik>=0.9.8->pandas-profiling==2.4.1) (5.3.3)\n",
      "Requirement already satisfied: numba>=0.38.1 in c:\\users\\hn42\\appdata\\local\\continuum\\anaconda3\\lib\\site-packages (from phik>=0.9.8->pandas-profiling==2.4.1) (0.45.1)\n",
      "Requirement already satisfied: six>=1.5 in c:\\users\\hn42\\appdata\\local\\continuum\\anaconda3\\lib\\site-packages (from python-dateutil>=2.6.1->pandas>=0.19->pandas-profiling==2.4.1) (1.12.0)\n",
      "Requirement already satisfied: setuptools in c:\\users\\hn42\\appdata\\local\\continuum\\anaconda3\\lib\\site-packages (from kiwisolver>=1.0.1->matplotlib>=1.4->pandas-profiling==2.4.1) (41.4.0)\n",
      "Requirement already satisfied: py>=1.5.0 in c:\\users\\hn42\\appdata\\local\\continuum\\anaconda3\\lib\\site-packages (from pytest>=4.0.2->phik>=0.9.8->pandas-profiling==2.4.1) (1.8.0)\n",
      "Requirement already satisfied: packaging in c:\\users\\hn42\\appdata\\local\\continuum\\anaconda3\\lib\\site-packages (from pytest>=4.0.2->phik>=0.9.8->pandas-profiling==2.4.1) (19.2)\n",
      "Requirement already satisfied: attrs>=17.4.0 in c:\\users\\hn42\\appdata\\local\\continuum\\anaconda3\\lib\\site-packages (from pytest>=4.0.2->phik>=0.9.8->pandas-profiling==2.4.1) (19.2.0)\n",
      "Requirement already satisfied: more-itertools>=4.0.0 in c:\\users\\hn42\\appdata\\local\\continuum\\anaconda3\\lib\\site-packages (from pytest>=4.0.2->phik>=0.9.8->pandas-profiling==2.4.1) (7.2.0)\n",
      "Requirement already satisfied: atomicwrites>=1.0 in c:\\users\\hn42\\appdata\\local\\continuum\\anaconda3\\lib\\site-packages (from pytest>=4.0.2->phik>=0.9.8->pandas-profiling==2.4.1) (1.3.0)\n",
      "Requirement already satisfied: pluggy<1.0,>=0.12 in c:\\users\\hn42\\appdata\\local\\continuum\\anaconda3\\lib\\site-packages (from pytest>=4.0.2->phik>=0.9.8->pandas-profiling==2.4.1) (0.13.0)\n",
      "Requirement already satisfied: wcwidth in c:\\users\\hn42\\appdata\\local\\continuum\\anaconda3\\lib\\site-packages (from pytest>=4.0.2->phik>=0.9.8->pandas-profiling==2.4.1) (0.1.7)\n",
      "Requirement already satisfied: importlib-metadata>=0.12 in c:\\users\\hn42\\appdata\\local\\continuum\\anaconda3\\lib\\site-packages (from pytest>=4.0.2->phik>=0.9.8->pandas-profiling==2.4.1) (0.23)\n",
      "Requirement already satisfied: colorama in c:\\users\\hn42\\appdata\\local\\continuum\\anaconda3\\lib\\site-packages (from pytest>=4.0.2->phik>=0.9.8->pandas-profiling==2.4.1) (0.4.1)\n",
      "Requirement already satisfied: pylint>=1.4.5 in c:\\users\\hn42\\appdata\\local\\continuum\\anaconda3\\lib\\site-packages (from pytest-pylint>=0.13.0->phik>=0.9.8->pandas-profiling==2.4.1) (2.4.2)\n",
      "Requirement already satisfied: bleach in c:\\users\\hn42\\appdata\\local\\continuum\\anaconda3\\lib\\site-packages (from nbconvert>=5.3.1->phik>=0.9.8->pandas-profiling==2.4.1) (3.1.0)\n",
      "Requirement already satisfied: pygments in c:\\users\\hn42\\appdata\\local\\continuum\\anaconda3\\lib\\site-packages (from nbconvert>=5.3.1->phik>=0.9.8->pandas-profiling==2.4.1) (2.4.2)\n",
      "Requirement already satisfied: pandocfilters>=1.4.1 in c:\\users\\hn42\\appdata\\local\\continuum\\anaconda3\\lib\\site-packages (from nbconvert>=5.3.1->phik>=0.9.8->pandas-profiling==2.4.1) (1.4.2)\n",
      "Requirement already satisfied: defusedxml in c:\\users\\hn42\\appdata\\local\\continuum\\anaconda3\\lib\\site-packages (from nbconvert>=5.3.1->phik>=0.9.8->pandas-profiling==2.4.1) (0.6.0)\n",
      "Requirement already satisfied: entrypoints>=0.2.2 in c:\\users\\hn42\\appdata\\local\\continuum\\anaconda3\\lib\\site-packages (from nbconvert>=5.3.1->phik>=0.9.8->pandas-profiling==2.4.1) (0.3)\n",
      "Requirement already satisfied: nbformat>=4.4 in c:\\users\\hn42\\appdata\\local\\continuum\\anaconda3\\lib\\site-packages (from nbconvert>=5.3.1->phik>=0.9.8->pandas-profiling==2.4.1) (4.4.0)\n",
      "Requirement already satisfied: testpath in c:\\users\\hn42\\appdata\\local\\continuum\\anaconda3\\lib\\site-packages (from nbconvert>=5.3.1->phik>=0.9.8->pandas-profiling==2.4.1) (0.4.2)\n",
      "Requirement already satisfied: traitlets>=4.2 in c:\\users\\hn42\\appdata\\local\\continuum\\anaconda3\\lib\\site-packages (from nbconvert>=5.3.1->phik>=0.9.8->pandas-profiling==2.4.1) (4.3.3)\n",
      "Requirement already satisfied: jupyter-core in c:\\users\\hn42\\appdata\\local\\continuum\\anaconda3\\lib\\site-packages (from nbconvert>=5.3.1->phik>=0.9.8->pandas-profiling==2.4.1) (4.5.0)\n",
      "Requirement already satisfied: mistune<2,>=0.8.1 in c:\\users\\hn42\\appdata\\local\\continuum\\anaconda3\\lib\\site-packages (from nbconvert>=5.3.1->phik>=0.9.8->pandas-profiling==2.4.1) (0.8.4)\n",
      "Requirement already satisfied: pyzmq>=13 in c:\\users\\hn42\\appdata\\local\\continuum\\anaconda3\\lib\\site-packages (from jupyter-client>=5.2.3->phik>=0.9.8->pandas-profiling==2.4.1) (18.1.0)\n",
      "Requirement already satisfied: pywin32>=1.0; sys_platform == \"win32\" in c:\\users\\hn42\\appdata\\local\\continuum\\anaconda3\\lib\\site-packages (from jupyter-client>=5.2.3->phik>=0.9.8->pandas-profiling==2.4.1) (223)\n",
      "Requirement already satisfied: tornado>=4.1 in c:\\users\\hn42\\appdata\\local\\continuum\\anaconda3\\lib\\site-packages (from jupyter-client>=5.2.3->phik>=0.9.8->pandas-profiling==2.4.1) (6.0.3)\n",
      "Requirement already satisfied: llvmlite>=0.29.0dev0 in c:\\users\\hn42\\appdata\\local\\continuum\\anaconda3\\lib\\site-packages (from numba>=0.38.1->phik>=0.9.8->pandas-profiling==2.4.1) (0.29.0)\n",
      "Requirement already satisfied: zipp>=0.5 in c:\\users\\hn42\\appdata\\local\\continuum\\anaconda3\\lib\\site-packages (from importlib-metadata>=0.12->pytest>=4.0.2->phik>=0.9.8->pandas-profiling==2.4.1) (0.6.0)\n",
      "Requirement already satisfied: astroid<2.4,>=2.3.0 in c:\\users\\hn42\\appdata\\local\\continuum\\anaconda3\\lib\\site-packages (from pylint>=1.4.5->pytest-pylint>=0.13.0->phik>=0.9.8->pandas-profiling==2.4.1) (2.3.1)\n",
      "Requirement already satisfied: isort<5,>=4.2.5 in c:\\users\\hn42\\appdata\\local\\continuum\\anaconda3\\lib\\site-packages (from pylint>=1.4.5->pytest-pylint>=0.13.0->phik>=0.9.8->pandas-profiling==2.4.1) (4.3.21)\n",
      "Requirement already satisfied: mccabe<0.7,>=0.6 in c:\\users\\hn42\\appdata\\local\\continuum\\anaconda3\\lib\\site-packages (from pylint>=1.4.5->pytest-pylint>=0.13.0->phik>=0.9.8->pandas-profiling==2.4.1) (0.6.1)\n",
      "Requirement already satisfied: webencodings in c:\\users\\hn42\\appdata\\local\\continuum\\anaconda3\\lib\\site-packages (from bleach->nbconvert>=5.3.1->phik>=0.9.8->pandas-profiling==2.4.1) (0.5.1)\n",
      "Requirement already satisfied: ipython-genutils in c:\\users\\hn42\\appdata\\local\\continuum\\anaconda3\\lib\\site-packages (from nbformat>=4.4->nbconvert>=5.3.1->phik>=0.9.8->pandas-profiling==2.4.1) (0.2.0)\n",
      "Requirement already satisfied: jsonschema!=2.5.0,>=2.4 in c:\\users\\hn42\\appdata\\local\\continuum\\anaconda3\\lib\\site-packages (from nbformat>=4.4->nbconvert>=5.3.1->phik>=0.9.8->pandas-profiling==2.4.1) (3.0.2)\n",
      "Requirement already satisfied: decorator in c:\\users\\hn42\\appdata\\local\\continuum\\anaconda3\\lib\\site-packages (from traitlets>=4.2->nbconvert>=5.3.1->phik>=0.9.8->pandas-profiling==2.4.1) (4.4.0)\n",
      "Requirement already satisfied: wrapt==1.11.* in c:\\users\\hn42\\appdata\\local\\continuum\\anaconda3\\lib\\site-packages (from astroid<2.4,>=2.3.0->pylint>=1.4.5->pytest-pylint>=0.13.0->phik>=0.9.8->pandas-profiling==2.4.1) (1.11.2)\n",
      "Collecting typed-ast<1.5,>=1.4.0; implementation_name == \"cpython\" and python_version < \"3.8\" (from astroid<2.4,>=2.3.0->pylint>=1.4.5->pytest-pylint>=0.13.0->phik>=0.9.8->pandas-profiling==2.4.1)\n",
      "  Downloading https://files.pythonhosted.org/packages/6d/6f/c67eed763bcc095d9187c7a04fdc3ba640d1e990368acfcb1d294ff71549/typed_ast-1.4.1-cp37-cp37m-win_amd64.whl (155kB)\n",
      "Requirement already satisfied: lazy-object-proxy==1.4.* in c:\\users\\hn42\\appdata\\local\\continuum\\anaconda3\\lib\\site-packages (from astroid<2.4,>=2.3.0->pylint>=1.4.5->pytest-pylint>=0.13.0->phik>=0.9.8->pandas-profiling==2.4.1) (1.4.2)\n",
      "Requirement already satisfied: pyrsistent>=0.14.0 in c:\\users\\hn42\\appdata\\local\\continuum\\anaconda3\\lib\\site-packages (from jsonschema!=2.5.0,>=2.4->nbformat>=4.4->nbconvert>=5.3.1->phik>=0.9.8->pandas-profiling==2.4.1) (0.15.4)\n",
      "Building wheels for collected packages: pandas-profiling, confuse, htmlmin\n",
      "  Building wheel for pandas-profiling (setup.py): started\n",
      "  Building wheel for pandas-profiling (setup.py): finished with status 'done'\n",
      "  Created wheel for pandas-profiling: filename=pandas_profiling-2.4.1-py2.py3-none-any.whl size=209427 sha256=4defc74418b93c6fcf9b64dc66d0aad1729b48ddc6bcb9058a6154afdcfcb106\n",
      "  Stored in directory: C:\\Users\\hn42\\AppData\\Local\\Temp\\pip-ephem-wheel-cache-_13lb98k\\wheels\\56\\c2\\dd\\8d945b0443c35df7d5f62fa9e9ae105a2d8b286302b92e0109\n",
      "  Building wheel for confuse (setup.py): started\n",
      "  Building wheel for confuse (setup.py): finished with status 'done'\n",
      "  Created wheel for confuse: filename=confuse-1.0.0-cp37-none-any.whl size=17494 sha256=34229ba94b0e3d3a8d2f3b9a60afdb16bf85013e078b8de5126f02b9672b9def\n",
      "  Stored in directory: C:\\Users\\hn42\\AppData\\Local\\pip\\Cache\\wheels\\b0\\b2\\96\\2074eee7dbf7b7df69d004c9b6ac4e32dad04fb7666cf943bd\n",
      "  Building wheel for htmlmin (setup.py): started\n",
      "  Building wheel for htmlmin (setup.py): finished with status 'done'\n",
      "  Created wheel for htmlmin: filename=htmlmin-0.1.12-cp37-none-any.whl size=27090 sha256=cc2ae2ed40d37f1c6102da1854a535a8da26300bfc739e4044092d5e9216fabe\n",
      "  Stored in directory: C:\\Users\\hn42\\AppData\\Local\\pip\\Cache\\wheels\\43\\07\\ac\\7c5a9d708d65247ac1f94066cf1db075540b85716c30255459\n",
      "Successfully built pandas-profiling confuse htmlmin\n",
      "Installing collected packages: confuse, htmlmin, missingno, pytest-pylint, phik, pandas-profiling, typed-ast\n",
      "Successfully installed confuse-1.0.0 htmlmin-0.1.12 missingno-0.4.2 pandas-profiling-2.4.1 phik-0.9.8 pytest-pylint-0.14.1 typed-ast-1.4.1\n",
      "Note: you may need to restart the kernel to use updated packages.\n"
     ]
    }
   ],
   "source": [
    "pip install https://github.com/pandas-profiling/pandas-profiling/archive/master.zip"
   ]
  },
  {
   "cell_type": "code",
   "execution_count": 115,
   "metadata": {
    "collapsed": true
   },
   "outputs": [
    {
     "name": "stdout",
     "output_type": "stream",
     "text": [
      "Collecting jinjasql\n",
      "  Downloading https://files.pythonhosted.org/packages/c0/64/4653b2c7aa8395929e1fc3b3adb6f46f43b21d502a93dfecbe0eea88f8db/jinjasql-0.1.7.tar.gz\n",
      "Requirement already satisfied: Jinja2>=2.5 in c:\\users\\hn42\\appdata\\local\\continuum\\anaconda3\\lib\\site-packages (from jinjasql) (2.10.3)\n",
      "Requirement already satisfied: MarkupSafe>=0.23 in c:\\users\\hn42\\appdata\\local\\continuum\\anaconda3\\lib\\site-packages (from Jinja2>=2.5->jinjasql) (1.1.1)\n",
      "Building wheels for collected packages: jinjasql\n",
      "  Building wheel for jinjasql (setup.py): started\n",
      "  Building wheel for jinjasql (setup.py): finished with status 'done'\n",
      "  Created wheel for jinjasql: filename=jinjasql-0.1.7-cp37-none-any.whl size=4758 sha256=4a30261c4f5e22bb6f492c90ac830c211aae263b2058013176289f1d2359121e\n",
      "  Stored in directory: C:\\Users\\hn42\\AppData\\Local\\pip\\Cache\\wheels\\81\\d6\\f3\\3aed06af06cfe7f53e72bc51c76e416097de87f32a361e34ab\n",
      "Successfully built jinjasql\n",
      "Installing collected packages: jinjasql\n",
      "Successfully installed jinjasql-0.1.7\n",
      "Note: you may need to restart the kernel to use updated packages.\n"
     ]
    }
   ],
   "source": [
    "pip install jinjasql"
   ]
  },
  {
   "cell_type": "code",
   "execution_count": null,
   "metadata": {},
   "outputs": [],
   "source": [
    "#pip install pandas-profiling"
   ]
  },
  {
   "cell_type": "code",
   "execution_count": 13,
   "metadata": {},
   "outputs": [
    {
     "name": "stdout",
     "output_type": "stream",
     "text": [
      "Collecting git+https://github.com/sat28/githubcommit.git\n",
      "  Cloning https://github.com/sat28/githubcommit.git to c:\\users\\harsha~1.nan\\appdata\\local\\temp\\pip-req-build-dnf9363l\n",
      "Note: you may need to restart the kernel to use updated packages.\n"
     ]
    },
    {
     "name": "stderr",
     "output_type": "stream",
     "text": [
      "  Running command git clone -q https://github.com/sat28/githubcommit.git 'C:\\Users\\HARSHA~1.NAN\\AppData\\Local\\Temp\\pip-req-build-dnf9363l'\n",
      "  ERROR: Error [WinError 2] The system cannot find the file specified while executing command git clone -q https://github.com/sat28/githubcommit.git 'C:\\Users\\HARSHA~1.NAN\\AppData\\Local\\Temp\\pip-req-build-dnf9363l'\n",
      "ERROR: Cannot find command 'git' - do you have 'git' installed and in your PATH?\n"
     ]
    }
   ],
   "source": [
    "pip install git+https://github.com/sat28/githubcommit.git"
   ]
  },
  {
   "cell_type": "code",
   "execution_count": null,
   "metadata": {},
   "outputs": [],
   "source": [
    "jupyter serverextension enable --py githubcommit\n",
    "jupyter nbextension install --py githubcommit"
   ]
  },
  {
   "cell_type": "markdown",
   "metadata": {},
   "source": [
    "###### Libraries & Pandas parameters"
   ]
  },
  {
   "cell_type": "code",
   "execution_count": 1,
   "metadata": {},
   "outputs": [],
   "source": [
    "import pandas as pd\n",
    "import numpy as np\n",
    "import pandas_profiling"
   ]
  },
  {
   "cell_type": "code",
   "execution_count": 2,
   "metadata": {},
   "outputs": [],
   "source": [
    "# set up display area to show dataframe in jupyter qtconsole\n",
    "import pandas as pd\n",
    "pd.set_option('display.max_rows', 700)\n",
    "pd.set_option('display.max_columns', 500)\n",
    "pd.set_option('display.width', 300)\n",
    "#pd.set_option('display.height', 300)\n",
    "#pd.display.float_format(.2)\n",
    "#Display maximum column width\n",
    "pd.options.display.max_rows\n",
    "pd.set_option('display.max_colwidth', -1)"
   ]
  },
  {
   "cell_type": "markdown",
   "metadata": {},
   "source": [
    "###### Snowflake Connector & Execute Functions"
   ]
  },
  {
   "cell_type": "code",
   "execution_count": 3,
   "metadata": {},
   "outputs": [
    {
     "name": "stdout",
     "output_type": "stream",
     "text": [
      "Initiating login request with your identity provider. A browser window should have opened for you to complete the login. If you can't see it, check existing browser windows, or your OS settings. Press CTRL+C to abort and try again...\n"
     ]
    }
   ],
   "source": [
    "import snowflake.connector as sf\n",
    "ctx=sf.connect(\n",
    "    account=\"tailoredbrands.us-east-1\",\n",
    "    user=\"HARSHAVARDHAN.NANNUR@TAILOREDBRANDS.COM\", #change user name \n",
    "    warehouse=\"ANALYTICS_MEDIUM\", \n",
    "    database=\"GRP_LOOM\",\n",
    "    schema=\"BLT\",\n",
    "    authenticator='externalbrowser')"
   ]
  },
  {
   "cell_type": "code",
   "execution_count": 4,
   "metadata": {},
   "outputs": [],
   "source": [
    "def exec_sql(sql,ctx=ctx):\n",
    "    df = pd.read_sql(sql, ctx)\n",
    "    return df"
   ]
  },
  {
   "cell_type": "markdown",
   "metadata": {},
   "source": [
    "# Running stats on SQL Columns"
   ]
  },
  {
   "cell_type": "code",
   "execution_count": 6,
   "metadata": {},
   "outputs": [],
   "source": [
    "COLUMN_STATS_TEMPLATE = '''\n",
    "select\n",
    "    {{ column_name | sqlsafe }} as column_name\n",
    "    , count(*) as num_rows\n",
    "    , count(distinct {{ column_name | sqlsafe }}) as num_unique\n",
    "    , sum(case when {{ column_name | sqlsafe }} is null then 1 else 0 end) as num_nulls\n",
    "    {% if default_value %}\n",
    "    , sum(case when {{ column_name | sqlsafe }} = {{ default_value }} then 1 else 0 end) as num_default\n",
    "    {% else %}\n",
    "    , 0 as num_default\n",
    "    {% endif %}\n",
    "    , min({{ column_name | sqlsafe }}) as min_value\n",
    "    , max({{ column_name | sqlsafe }}) as max_value\n",
    "from\n",
    "    {{ table_name | sqlsafe }}\n",
    "    group by column_name\n",
    "'''\n",
    "\n",
    "\n",
    "from copy import deepcopy\n",
    "def get_sql_from_template(query, bind_params):\n",
    "    if not bind_params:\n",
    "        return query\n",
    "    params = deepcopy(bind_params)\n",
    "    for key, val in params.items():\n",
    "        params[key] = quote_sql_string(val)\n",
    "    return query % params\n",
    "\n",
    "\n",
    "from jinjasql import JinjaSql\n",
    "def apply_sql_template(template, parameters):\n",
    "    '''\n",
    "    Apply a JinjaSql template (string) substituting parameters (dict) and return\n",
    "    the final SQL.\n",
    "    '''\n",
    "    j = JinjaSql(param_style='pyformat')\n",
    "    query, bind_params = j.prepare_query(template, parameters)\n",
    "    return get_sql_from_template(query, bind_params)\n",
    "\n",
    "def get_column_stats_sql(table_name, column_name, default_value):\n",
    "    '''\n",
    "    Returns the SQL for computing column statistics.\n",
    "    Passing None for the default_value results in zero output for the number\n",
    "    of default values.\n",
    "    '''\n",
    "    params = {\n",
    "        'table_name': table_name,\n",
    "        'column_name': column_name,\n",
    "        'default_value': default_value,\n",
    "    }\n",
    "    return apply_sql_template(COLUMN_STATS_TEMPLATE, params)"
   ]
  },
  {
   "cell_type": "code",
   "execution_count": 7,
   "metadata": {},
   "outputs": [],
   "source": [
    "def col_stats(table_name,columns_list):\n",
    "    sql_out=[]\n",
    "    for i in columns_list:\n",
    "        list_out=exec_sql(get_column_stats_sql(table_name,i,None))\n",
    "        list_out['Col_Name']=i\n",
    "        sql_out.append(list_out)\n",
    "    df=pd.concat(sql_out)\n",
    "    return df"
   ]
  },
  {
   "cell_type": "code",
   "execution_count": 208,
   "metadata": {
    "collapsed": true
   },
   "outputs": [
    {
     "data": {
      "text/html": [
       "<div>\n",
       "<style scoped>\n",
       "    .dataframe tbody tr th:only-of-type {\n",
       "        vertical-align: middle;\n",
       "    }\n",
       "\n",
       "    .dataframe tbody tr th {\n",
       "        vertical-align: top;\n",
       "    }\n",
       "\n",
       "    .dataframe thead th {\n",
       "        text-align: right;\n",
       "    }\n",
       "</style>\n",
       "<table border=\"1\" class=\"dataframe\">\n",
       "  <thead>\n",
       "    <tr style=\"text-align: right;\">\n",
       "      <th></th>\n",
       "      <th>COLUMN_NAME</th>\n",
       "      <th>NUM_ROWS</th>\n",
       "      <th>NUM_UNIQUE</th>\n",
       "      <th>NUM_NULLS</th>\n",
       "      <th>NUM_DEFAULT</th>\n",
       "      <th>MIN_VALUE</th>\n",
       "      <th>MAX_VALUE</th>\n",
       "      <th>Col_Name</th>\n",
       "    </tr>\n",
       "  </thead>\n",
       "  <tbody>\n",
       "    <tr>\n",
       "      <td>0</td>\n",
       "      <td>MSP</td>\n",
       "      <td>83841281</td>\n",
       "      <td>1</td>\n",
       "      <td>0</td>\n",
       "      <td>0</td>\n",
       "      <td>MSP</td>\n",
       "      <td>MSP</td>\n",
       "      <td>Brand</td>\n",
       "    </tr>\n",
       "    <tr>\n",
       "      <td>1</td>\n",
       "      <td>JAB</td>\n",
       "      <td>106765936</td>\n",
       "      <td>1</td>\n",
       "      <td>0</td>\n",
       "      <td>0</td>\n",
       "      <td>JAB</td>\n",
       "      <td>JAB</td>\n",
       "      <td>Brand</td>\n",
       "    </tr>\n",
       "    <tr>\n",
       "      <td>2</td>\n",
       "      <td>TMW</td>\n",
       "      <td>649401651</td>\n",
       "      <td>1</td>\n",
       "      <td>0</td>\n",
       "      <td>0</td>\n",
       "      <td>TMW</td>\n",
       "      <td>TMW</td>\n",
       "      <td>Brand</td>\n",
       "    </tr>\n",
       "    <tr>\n",
       "      <td>3</td>\n",
       "      <td>KNG</td>\n",
       "      <td>133418057</td>\n",
       "      <td>1</td>\n",
       "      <td>0</td>\n",
       "      <td>0</td>\n",
       "      <td>KNG</td>\n",
       "      <td>KNG</td>\n",
       "      <td>Brand</td>\n",
       "    </tr>\n",
       "  </tbody>\n",
       "</table>\n",
       "</div>"
      ],
      "text/plain": [
       "  COLUMN_NAME   NUM_ROWS  NUM_UNIQUE  NUM_NULLS  NUM_DEFAULT MIN_VALUE MAX_VALUE Col_Name\n",
       "0  MSP         83841281   1           0          0            MSP       MSP       Brand  \n",
       "1  JAB         106765936  1           0          0            JAB       JAB       Brand  \n",
       "2  TMW         649401651  1           0          0            TMW       TMW       Brand  \n",
       "3  KNG         133418057  1           0          0            KNG       KNG       Brand  "
      ]
     },
     "execution_count": 208,
     "metadata": {},
     "output_type": "execute_result"
    }
   ],
   "source": [
    "Table_name='BLT.Order_detail_master'\n",
    "columns=list(['Brand','ORDER_TYPE'])\n",
    "df=col_stats(Table_name,columns)\n",
    "df[df.Col_Name=='Brand']"
   ]
  },
  {
   "cell_type": "markdown",
   "metadata": {},
   "source": [
    "# Data Loading"
   ]
  },
  {
   "cell_type": "code",
   "execution_count": 61,
   "metadata": {},
   "outputs": [],
   "source": [
    "sql=\"select * from ODS.EXPERIAN_CUSTOMER_SUMMARY sample row (10000 rows)\" #getting a sample of 100,000 rows\n",
    "ods_exp_sample_dt=exec_sql(sql)"
   ]
  },
  {
   "cell_type": "code",
   "execution_count": 86,
   "metadata": {},
   "outputs": [],
   "source": [
    "sql=\"select * from BLT.Order_master sample row (100000 rows)\" #getting a sample of 100,000 rows\n",
    "blt_odr_mstr=exec_sql(sql)"
   ]
  },
  {
   "cell_type": "code",
   "execution_count": 10,
   "metadata": {},
   "outputs": [],
   "source": [
    "sql=\"select * from spa.COMBINED_SURVEY_DATA\"\n",
    "survey_data=exec_sql(sql)"
   ]
  },
  {
   "cell_type": "code",
   "execution_count": 27,
   "metadata": {},
   "outputs": [],
   "source": [
    "Quan=pd.read_csv('quan_NTF.csv')"
   ]
  },
  {
   "cell_type": "markdown",
   "metadata": {},
   "source": [
    "# Profiling ( Options)"
   ]
  },
  {
   "cell_type": "markdown",
   "metadata": {},
   "source": [
    "###### Option-1 Small data & Detailed statistics "
   ]
  },
  {
   "cell_type": "code",
   "execution_count": 87,
   "metadata": {
    "collapsed": true
   },
   "outputs": [
    {
     "name": "stderr",
     "output_type": "stream",
     "text": [
      "C:\\Users\\hn42\\AppData\\Local\\Continuum\\anaconda3\\lib\\site-packages\\pandas_profiling\\model\\correlations.py:35: RuntimeWarning: invalid value encountered in double_scalars\n",
      "  return np.sqrt(phi2corr / min((kcorr - 1.0), (rcorr - 1.0)))\n",
      "C:\\Users\\hn42\\AppData\\Local\\Continuum\\anaconda3\\lib\\site-packages\\pandas_profiling\\model\\correlations.py:126: UserWarning: There was an attempt to calculate the cramers correlation, but this failed.\n",
      "To hide this warning, disable the calculation\n",
      "(using `df.profile_report(correlations={\"cramers\": {\"calculate\": False}})`\n",
      "If this is problematic for your use case, please report this as an issue:\n",
      "https://github.com/pandas-profiling/pandas-profiling/issues\n",
      "(include the error message: 'The internally computed table of expected frequencies has a zero element at (0, 0).')\n",
      "  correlation_name=correlation_name, error=error\n"
     ]
    }
   ],
   "source": [
    "profile = pandas_profiling.ProfileReport(blt_odr_dtl_mstr)\n",
    "profile.to_file(output_file=\"odr_dtl_mstr.html\")"
   ]
  },
  {
   "cell_type": "markdown",
   "metadata": {},
   "source": [
    "###### Option-2 Large data and limited statistics"
   ]
  },
  {
   "cell_type": "code",
   "execution_count": null,
   "metadata": {},
   "outputs": [],
   "source": [
    "#Version-1 ( Still takes lot of time to run)\n",
    "profile = surve_data.profile_report(correlations={\n",
    "    \"pearson\": False,\n",
    "    \"spearman\": False,\n",
    "    \"kendall\": False,\n",
    "    \"phi_k\": False,\n",
    "    \"cramers\": False,\n",
    "    \"recoded\":False,}\n",
    ")\n",
    "profile.to_file(outputfile=\"output.html\")"
   ]
  },
  {
   "cell_type": "code",
   "execution_count": null,
   "metadata": {},
   "outputs": [],
   "source": [
    "#Version-2 ( Working and runs fast)\n",
    "profile = pandas_profiling.ProfileReport(survey_data, minimal=True)\n",
    "profile.to_file(output_file=\"output2.html\")"
   ]
  },
  {
   "cell_type": "markdown",
   "metadata": {},
   "source": [
    "## Analysis Starts Here"
   ]
  },
  {
   "cell_type": "code",
   "execution_count": 11,
   "metadata": {},
   "outputs": [
    {
     "data": {
      "text/plain": [
       "Index(['SURVEY', 'DATE', 'TIME', 'RESPONDENTID', 'SATISFACTION_OVERALL', 'RECOMMEND_COMPANY', 'BRAND', 'CUSTOM_ORDER_ID', 'TRANSACTION_ID', 'SURVEY1', 'CUSTOMER_NUM'], dtype='object')"
      ]
     },
     "execution_count": 11,
     "metadata": {},
     "output_type": "execute_result"
    }
   ],
   "source": [
    "survey_data.columns"
   ]
  },
  {
   "cell_type": "code",
   "execution_count": null,
   "metadata": {},
   "outputs": [],
   "source": []
  },
  {
   "cell_type": "code",
   "execution_count": null,
   "metadata": {},
   "outputs": [],
   "source": []
  },
  {
   "cell_type": "code",
   "execution_count": null,
   "metadata": {},
   "outputs": [],
   "source": []
  }
 ],
 "metadata": {
  "kernelspec": {
   "display_name": "Python 3",
   "language": "python",
   "name": "python3"
  },
  "language_info": {
   "codemirror_mode": {
    "name": "ipython",
    "version": 3
   },
   "file_extension": ".py",
   "mimetype": "text/x-python",
   "name": "python",
   "nbconvert_exporter": "python",
   "pygments_lexer": "ipython3",
   "version": "3.7.4"
  }
 },
 "nbformat": 4,
 "nbformat_minor": 2
}
